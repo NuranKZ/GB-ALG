{
 "cells": [
  {
   "cell_type": "markdown",
   "metadata": {
    "toc": true
   },
   "source": [
    "<h1>Table of Contents<span class=\"tocSkip\"></span></h1>\n",
    "<div class=\"toc\"><ul class=\"toc-item\"></ul></div>"
   ]
  },
  {
   "cell_type": "code",
   "execution_count": 1,
   "metadata": {},
   "outputs": [],
   "source": [
    "import numpy as np\n",
    "from itertools import product"
   ]
  },
  {
   "cell_type": "markdown",
   "metadata": {
    "colab_type": "text",
    "id": "huXrhXQsZTMt"
   },
   "source": [
    "1. Подберите скорость обучения (alpha) и количество итераций:"
   ]
  },
  {
   "cell_type": "code",
   "execution_count": 2,
   "metadata": {},
   "outputs": [],
   "source": [
    "# 1. Функции\n",
    "\n",
    "def calc_mse(y, y_pred):\n",
    "    err = np.mean((y - y_pred)**2)\n",
    "    return err\n",
    "\n",
    "\n",
    "# запускает решетчатый поиск по alpha_range и n_iter_range\n",
    "def simple_grad_search(X, y_true, W_init, alpha_range, n_iters_range, verbose=True, verbose_step=100):\n",
    "    cases = list(product(n_iters_range, alpha_range))\n",
    "    N = len(y_true)\n",
    "    err_list = []\n",
    "    W_list = []\n",
    "    param_list = []\n",
    "    for case in cases:\n",
    "        for i in range(case[0]):\n",
    "            W = W_init\n",
    "            y_pred = np.dot(W, X)\n",
    "            err = calc_mse(y_true, y_pred)\n",
    "            for ii in range(W.shape[0]):\n",
    "                W[ii] -= case[1] * (1/N * 2 * np.sum(X[ii] * (y_pred - y_true)))\n",
    "                if verbose and i % verbose_step == 0:\n",
    "                    print(i, W, err)\n",
    "        err_list.append(err)\n",
    "        W_list.append(W)\n",
    "        param_list.append(case)\n",
    "    min_error = np.array(err_list).min()\n",
    "    idx = np.array(err_list).argmin()\n",
    "    best_param = param_list[idx]\n",
    "    best_W = W_list[idx]\n",
    "    print(f'best params: learning rate {best_param[1]} and n_iter {best_param[0]} with mse = {min_error}')\n",
    "    return best_W    "
   ]
  },
  {
   "cell_type": "code",
   "execution_count": 3,
   "metadata": {},
   "outputs": [],
   "source": [
    "# 2. Входные данные\n",
    "X = np.array([[1, 1, 1, 1, 1, 1, 1, 1, 1, 1],\n",
    "              [1, 1, 2, 1, 3, 0, 5, 10, 1, 2]])\n",
    "\n",
    "y_true = [45, 55, 50, 59, 65, 35, 75, 80, 50, 60]"
   ]
  },
  {
   "cell_type": "code",
   "execution_count": 4,
   "metadata": {},
   "outputs": [
    {
     "name": "stdout",
     "output_type": "stream",
     "text": [
      "best params: learning rate 0.01 and n_iter 2000 with mse = 45.9375\n"
     ]
    },
    {
     "data": {
      "text/plain": [
       "array([47.23214286,  3.91071429])"
      ]
     },
     "execution_count": 4,
     "metadata": {},
     "output_type": "execute_result"
    }
   ],
   "source": [
    "# 3. Запуск поиска параметров\n",
    "W_init = np.array([1, 0.5])\n",
    "alpha_range = [1e-2, 1e-3, 1e-4, 1e-5]\n",
    "n_iters_range = [1000, 2000, 3000, 5000]\n",
    "w_optimum = simple_grad_search(X, y_true, W_init, alpha_range, n_iters_range, \n",
    "                               verbose=False, verbose_step=100)\n",
    "\n",
    "w_optimum"
   ]
  },
  {
   "cell_type": "code",
   "execution_count": 5,
   "metadata": {},
   "outputs": [
    {
     "name": "stdout",
     "output_type": "stream",
     "text": [
      "0 [2.102 0.5  ] 3173.15\n",
      "0 [2.102 3.9  ] 3173.15\n",
      "500 [46.99760587  3.95447839] 45.96769776787538\n",
      "500 [46.99760587  3.95402334] 45.96769776787538\n",
      "1000 [47.23088237  3.91094949] 45.937500872219864\n",
      "1000 [47.23088237  3.91094704] 45.937500872219864\n",
      "1500 [47.23213608  3.91071555] 45.937500000025196\n",
      "1500 [47.23213608  3.91071554] 45.937500000025196\n"
     ]
    }
   ],
   "source": [
    "# 4. Проверка результатов на единичном коде\n",
    "alpha = 1e-2\n",
    "n_iter = 2000\n",
    "\n",
    "n = X.shape[1]\n",
    "W = np.array([1, 0.5])\n",
    "\n",
    "for i in range(2000):\n",
    "    y_pred = np.dot(W, X)\n",
    "    err = calc_mse(y_true, y_pred)\n",
    "    for ii in range(W.shape[0]):\n",
    "        W[ii] -= alpha * (1/n * 2 * np.sum(X[ii] * (y_pred - y_true)))\n",
    "        if i % 500 == 0:\n",
    "            print(i, W, err)"
   ]
  },
  {
   "cell_type": "markdown",
   "metadata": {
    "colab_type": "text",
    "id": "5Qu1o4JhZYwI"
   },
   "source": [
    "*2. В этом коде мы избавляемся от итераций по весам, но тут есть ошибка, исправьте ее:"
   ]
  },
  {
   "cell_type": "code",
   "execution_count": 8,
   "metadata": {},
   "outputs": [],
   "source": [
    "# 1. Error\n",
    "\n",
    "# ошибка в расчетax коэффициентов\n",
    "# суть ошибки в np.sum(), т.к. в случае применения к матрице - возвращается не вектор размерности W, а скаляр"
   ]
  },
  {
   "cell_type": "code",
   "execution_count": 10,
   "metadata": {},
   "outputs": [
    {
     "name": "stdout",
     "output_type": "stream",
     "text": [
      "0 [2.102 3.9  ] 3173.15\n",
      "200 [41.83683774  4.90699865] 61.9177717428135\n",
      "400 [46.56511152  4.03388672] 46.181755648107604\n",
      "600 [47.14967657  3.92594232] 45.941233404700036\n",
      "800 [47.2219474   3.91259695] 45.93755706443538\n",
      "1000 [47.23088237  3.91094704] 45.937500872219864\n",
      "1200 [47.23198702  3.91074306] 45.93750001333172\n",
      "1400 [47.23212359  3.91071784] 45.937500000203784\n",
      "1600 [47.23214048  3.91071473] 45.93750000000313\n",
      "1800 [47.23214256  3.91071434] 45.93750000000003\n"
     ]
    }
   ],
   "source": [
    "# Исправленный вариант\n",
    "W = np.array([1, 0.5])\n",
    "alpha = 1e-2\n",
    "for i in range(2000):\n",
    "    y_pred = np.dot(W, X)\n",
    "    err = calc_mse(y_true, y_pred)\n",
    "    W = W - alpha * (1/n * 2 * np.sum(X * (y_pred - y_true), axis=1)) # добавлено уточнение по оси\n",
    "    #print(W)\n",
    "    if i % 200 == 0:\n",
    "        print(i, W, err)   "
   ]
  },
  {
   "cell_type": "markdown",
   "metadata": {
    "colab_type": "text",
    "id": "5Qu1o4JhZYwI"
   },
   "source": [
    "Задание *3: вместо того, чтобы задавать количество итераций, задайте условие остановки алгоритма - когда ошибка за итерацию\n",
    "начинает изменяться ниже определенного порога (упрощенный аналог параметра tol в линейной регрессии в sklearn)."
   ]
  },
  {
   "cell_type": "code",
   "execution_count": 11,
   "metadata": {},
   "outputs": [],
   "source": [
    "# версия функции c остановкой по tol, реализована без цикла по параметрам\n",
    "def single_grad_tol(X, y_true, W_init, alpha, tol_level, verbose=True, verbose_step=100):\n",
    "    N = len(y_true)\n",
    "    y_pred = np.dot(W_init, X)\n",
    "    start_err = calc_mse(y_true, y_pred)\n",
    "    W = W_init\n",
    "    idx = 0\n",
    "    while True:\n",
    "        idx += 1\n",
    "        W -= alpha * (1/n * 2 * np.sum(X * (y_pred - y_true), axis=1))\n",
    "        y_pred = np.dot(W, X)\n",
    "        current_err = calc_mse(y_true, y_pred)\n",
    "        tol = start_err - current_err\n",
    "        start_err = current_err\n",
    "        if tol <= tol_level:\n",
    "            print(f'tolerance level reached on {idx} iter')\n",
    "            return W\n",
    "        else:\n",
    "            if verbose and idx % verbose_step == 0:\n",
    "                print(idx, W, err)\n",
    "            continue\n",
    "        "
   ]
  },
  {
   "cell_type": "code",
   "execution_count": 12,
   "metadata": {},
   "outputs": [
    {
     "name": "stdout",
     "output_type": "stream",
     "text": [
      "300 [45.3151501   4.26470166] 45.937500000000014\n",
      "600 [47.14881009  3.92610232] 45.937500000000014\n",
      "900 [47.22852033  3.91138321] 45.937500000000014\n",
      "1200 [47.23198538  3.91074336] 45.937500000000014\n",
      "1500 [47.23213601  3.91071555] 45.937500000000014\n",
      "tolerance level reached on 1629 iter\n"
     ]
    },
    {
     "data": {
      "text/plain": [
       "array([47.23214108,  3.91071461])"
      ]
     },
     "execution_count": 12,
     "metadata": {},
     "output_type": "execute_result"
    }
   ],
   "source": [
    "W_init = np.array([1, 0.5])\n",
    "alpha = 1e-2\n",
    "tol_level = 1e-15\n",
    "\n",
    "w_optimum_tol = single_grad_tol(X, y_true, W_init, alpha, tol_level, verbose=True, verbose_step=300)\n",
    "\n",
    "w_optimum_tol"
   ]
  }
 ],
 "metadata": {
  "kernelspec": {
   "display_name": "Python 3",
   "language": "python",
   "name": "python3"
  },
  "language_info": {
   "codemirror_mode": {
    "name": "ipython",
    "version": 3
   },
   "file_extension": ".py",
   "mimetype": "text/x-python",
   "name": "python",
   "nbconvert_exporter": "python",
   "pygments_lexer": "ipython3",
   "version": "3.7.1"
  },
  "toc": {
   "base_numbering": 1,
   "nav_menu": {},
   "number_sections": true,
   "sideBar": true,
   "skip_h1_title": true,
   "title_cell": "Table of Contents",
   "title_sidebar": "Contents",
   "toc_cell": true,
   "toc_position": {},
   "toc_section_display": true,
   "toc_window_display": false
  },
  "varInspector": {
   "cols": {
    "lenName": 16,
    "lenType": 16,
    "lenVar": 40
   },
   "kernels_config": {
    "python": {
     "delete_cmd_postfix": "",
     "delete_cmd_prefix": "del ",
     "library": "var_list.py",
     "varRefreshCmd": "print(var_dic_list())"
    },
    "r": {
     "delete_cmd_postfix": ") ",
     "delete_cmd_prefix": "rm(",
     "library": "var_list.r",
     "varRefreshCmd": "cat(var_dic_list()) "
    }
   },
   "types_to_exclude": [
    "module",
    "function",
    "builtin_function_or_method",
    "instance",
    "_Feature"
   ],
   "window_display": false
  }
 },
 "nbformat": 4,
 "nbformat_minor": 4
}
